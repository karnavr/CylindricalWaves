{
 "cells": [
  {
   "cell_type": "code",
   "execution_count": 109,
   "metadata": {},
   "outputs": [],
   "source": [
    "import numpy as np\n",
    "import matplotlib.pyplot as plt\n",
    "import scipy.special as sp\n",
    "import sys\n",
    "\n",
    "import funcs"
   ]
  },
  {
   "cell_type": "markdown",
   "metadata": {},
   "source": [
    "### Testing mainIntegrand function\n",
    "\n",
    "I'm running into problems, despite my code _looking_ like it works fine, so let me test each function individually, and carefully look at each line of code... "
   ]
  },
  {
   "cell_type": "code",
   "execution_count": 113,
   "metadata": {},
   "outputs": [
    {
     "name": "stdout",
     "output_type": "stream",
     "text": [
      "k: -5.0\n",
      "K(kS) = [nan nan nan nan nan nan nan nan nan nan]\n",
      "\n",
      "k: -4.0\n",
      "K(kS) = [nan nan nan nan nan nan nan nan nan nan]\n",
      "\n",
      "k: -3.0\n",
      "K(kS) = [nan nan nan nan nan nan nan nan nan nan]\n",
      "\n",
      "k: -2.0\n",
      "K(kS) = [nan nan nan nan nan nan nan nan nan nan]\n",
      "\n",
      "k: -1.0\n",
      "K(kS) = [nan nan nan nan nan nan nan nan nan nan]\n",
      "\n",
      "k: 1.0\n",
      "K(kS) = [0.49430767 0.58181517 0.73338672 0.66695541 0.51571822 0.51571822\n",
      " 0.66695541 0.73338672 0.58181517 0.49430767]\n",
      "\n",
      "k: 2.0\n",
      "K(kS) = [0.10277758 0.13269667 0.18915188 0.16376248 0.10989033 0.10989033\n",
      " 0.16376248 0.18915188 0.13269667 0.10277758]\n",
      "\n",
      "k: 3.0\n",
      "K(kS) = [0.02629304 0.03736563 0.0605504  0.04979635 0.02883552 0.02883552\n",
      " 0.04979635 0.0605504  0.03736563 0.02629304]\n",
      "\n",
      "k: 4.0\n",
      "K(kS) = [0.00727212 0.01138948 0.02102298 0.0164093  0.00818295 0.00818295\n",
      " 0.0164093  0.02102298 0.01138948 0.00727212]\n",
      "\n",
      "k: 5.0\n",
      "K(kS) = [0.00209471 0.00361774 0.00761355 0.00563796 0.0024188  0.0024188\n",
      " 0.00563796 0.00761355 0.00361774 0.00209471]\n",
      "\n"
     ]
    },
    {
     "data": {
      "image/png": "[encoded data removed]",
      "text/plain": [
       "<Figure size 600x400 with 2 Axes>"
      ]
     },
     "metadata": {
      "needs_background": "light"
     },
     "output_type": "display_data"
    },
    {
     "data": {
      "image/png": "[encoded data removed]",
      "text/plain": [
       "<Figure size 450x300 with 1 Axes>"
      ]
     },
     "metadata": {
      "needs_background": "light"
     },
     "output_type": "display_data"
    }
   ],
   "source": [
    "# the function returning the integrand eqs for the nondimensional eq. (3.4)\n",
    "def mainIntegrand(S, c, z, N, L, b, B, epsilon):\n",
    "\n",
    "    # define S derivatives (spectral)\n",
    "    S_z = funcs.fftDeriv(S, z, order=1)\n",
    "    S_zz = funcs.fftDeriv(S, z, order=2)\n",
    "\n",
    "    # bessel functions \n",
    "    def I(domain, order=1):\n",
    "        # modified bessel of first kind\n",
    "        return sp.iv(order, domain)\n",
    "    \n",
    "    def K(domain, order=1):\n",
    "        # modified bessel of second kind\n",
    "        return sp.kn(order, domain)\n",
    "\n",
    "\n",
    "    integrand = np.empty((N,len(z))) # initialize array of N integrand equations\n",
    "\n",
    "    Szsq = 1 + (S_z**2) # commonly used value in eqs\n",
    "\n",
    "    # get k values (N + 1 values but we discard the eq'n with k=0 in the for loop) \n",
    "    k_values = np.arange(-N/2, N/2 + 1, 1)*(np.pi/L)\n",
    "#     k_values = np.arange(0, N + 1, 1)*(np.pi/L) # (only positive k values)\n",
    "    i = 0\n",
    "\n",
    "    for k in k_values:\n",
    "\n",
    "        if k == 0.0:\n",
    "            continue # we don't want to include the equation with k = 0 (trivial solution)\n",
    "\n",
    "        print(f\"k: {k}\")\n",
    "        \n",
    "        # individual terms\n",
    "        one_p = (Szsq)*((c**2)/2 - 1/(S*np.sqrt(Szsq)) + S_zz/(Szsq**(3/2)) + B/(2*(S**2)) + epsilon)\n",
    "        one = k*S*np.sqrt(one_p)\n",
    "        two = K(k*b)*I(k*S) - I(k*b)*K(k*S)\n",
    "        three = np.cos(k*z)\n",
    "        print(f\"K(kS) = {K(k*S)}\\n\")\n",
    "\n",
    "        # add eq'n to integrand array (each row is one eq'n) \n",
    "        integrand[i,:] = one*two*three\n",
    "#         print(f\"{np.min(integrand[i,:])}, {np.max(integrand[i,:])}\")\n",
    "        \n",
    "        # divide integrand by max over one period to maintain well scaled Jacobian\n",
    "        integrand[i,:] = integrand[i,:] / np.max(integrand[i,:])\n",
    "#         integrand[i,:] = integrand[i,:] / np.max(np.abs(integrand[i,:])) # can also do this so integrand e (-1,1)\n",
    "        i += 1\n",
    "\n",
    "    return integrand\n",
    "\n",
    "# now define each part and run the function\n",
    "N = 10\n",
    "c = 1.079\n",
    "L = np.pi \n",
    "\n",
    "z = np.linspace(-L, L, N) # N points (used for now because I'm not zero padding)\n",
    "\n",
    "B = 1.5\n",
    "b = 0.1\n",
    "\n",
    "epsilon = 1 - B/2\n",
    "\n",
    "S = np.zeros(N)\n",
    "S[0:3] = np.array([1.0, 1e-3, 0.12])\n",
    "S = funcs.fourierToReal(S, z)\n",
    "\n",
    "integrand_array = mainIntegrand(S, c, z, N, L, b, B, epsilon)\n",
    "        \n",
    "# plot integrand array\n",
    "plt.figure(dpi=100)\n",
    "plt.imshow(integrand_array, cmap='gray')\n",
    "plt.colorbar()\n",
    "plt.show()\n",
    "\n",
    "# plot input profile\n",
    "plt.figure(dpi=75)\n",
    "plt.plot(z, S, '-')\n",
    "plt.xlabel('z')\n",
    "plt.ylabel('S')\n",
    "plt.title('input wave')\n",
    "plt.show()\n",
    "\n",
    "# note: the first half rows of the integrand array seem to be filled exclusively with nans..\n",
    "# (so the ones with the negative k values) — not necessarily the reason though \n",
    "\n",
    "# to do: check the equations again (typos), think of more possible solutions/things to check, \n",
    "# try computing solutons for only positive k values \n"
   ]
  },
  {
   "cell_type": "markdown",
   "metadata": {},
   "source": [
    "The problem appears to be with the modified bessel functions of the second kind (integer order) represented by K. Our equations include values of k which are negative (note that S is always positive), however the bessel function of second kind diverges as x $\\rightarrow$ 0, and is not defined for negative values. So, we end up with **nan** values in the first half of our array of integrand equations (which are defined over the whole domain z), for negative k values from the \"two\" term in the equation. "
   ]
  },
  {
   "cell_type": "code",
   "execution_count": 114,
   "metadata": {},
   "outputs": [
    {
     "name": "stdout",
     "output_type": "stream",
     "text": [
      "[[        nan         nan         nan         nan         nan         nan\n",
      "          nan         nan         nan         nan]\n",
      " [        nan         nan         nan         nan         nan         nan\n",
      "          nan         nan         nan         nan]\n",
      " [        nan         nan         nan         nan         nan         nan\n",
      "          nan         nan         nan         nan]\n",
      " [        nan         nan         nan         nan         nan         nan\n",
      "          nan         nan         nan         nan]\n",
      " [        nan         nan         nan         nan         nan         nan\n",
      "          nan         nan         nan         nan]\n",
      " [-1.44323622 -1.08855738 -0.27198664  0.79529266  1.          1.\n",
      "   0.79529266 -0.27198664 -1.08855738 -1.44323622]\n",
      " [ 1.          0.1603562  -0.88349481 -0.49236329  0.55514347  0.55514347\n",
      "  -0.49236329 -0.88349481  0.1603562   1.        ]\n",
      " [-2.35691226  1.          0.91360621 -1.99719245  0.83490795  0.83490795\n",
      "  -1.99719245  0.91360621  1.         -2.35691226]\n",
      " [ 1.         -0.72669214  0.47917383 -0.35881044  0.12002691  0.12002691\n",
      "  -0.35881044  0.47917383 -0.72669214  1.        ]\n",
      " [-1.51469238  1.         -0.580495    0.45738944 -0.17723988 -0.17723988\n",
      "   0.45738944 -0.580495    1.         -1.51469238]]\n"
     ]
    }
   ],
   "source": [
    "print(integrand_array)"
   ]
  },
  {
   "cell_type": "markdown",
   "metadata": {},
   "source": [
    "now observe what the integrals look like for the above N equations over the domain:"
   ]
  },
  {
   "cell_type": "code",
   "execution_count": 117,
   "metadata": {},
   "outputs": [
    {
     "name": "stdout",
     "output_type": "stream",
     "text": [
      "Integration results: \n",
      " \n",
      " [        nan         nan         nan         nan         nan -0.40054533\n",
      " -0.22390261 -0.59639216  0.01912622 -0.0805527 ]\n"
     ]
    }
   ],
   "source": [
    "# initialze array for integrals\n",
    "equations = np.empty(N)\n",
    "\n",
    "# compute all integrals\n",
    "for n in range(0, N):\n",
    "    equations[n] = np.trapz(integrand_array[n,:], z)\n",
    "\n",
    "print(f\"Integration results: \\n \\n {equations}\")"
   ]
  },
  {
   "cell_type": "markdown",
   "metadata": {},
   "source": [
    "Potential solution is to use only positive k values, such that the $K_1$ bessel function is properly defined for all the inputs. While fsolve appears to make progress with such an arrangement, the solutions eventually reach a point whereby there appear negatives under the sqrt of the \"one\" equation and we end up **nans** over the whole domain again. (can print the \"equations\" array, which shows the integration results, in the main file to see this happen)"
   ]
  },
  {
   "cell_type": "code",
   "execution_count": null,
   "metadata": {},
   "outputs": [],
   "source": []
  }
 ],
 "metadata": {
  "kernelspec": {
   "display_name": "Python 3",
   "language": "python",
   "name": "python3"
  },
  "language_info": {
   "codemirror_mode": {
    "name": "ipython",
    "version": 3
   },
   "file_extension": ".py",
   "mimetype": "text/x-python",
   "name": "python",
   "nbconvert_exporter": "python",
   "pygments_lexer": "ipython3",
   "version": "3.7.4"
  }
 },
 "nbformat": 4,
 "nbformat_minor": 2
}
